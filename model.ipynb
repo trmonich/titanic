{
 "cells": [
  {
   "cell_type": "code",
   "execution_count": 1,
   "metadata": {},
   "outputs": [
    {
     "name": "stderr",
     "output_type": "stream",
     "text": [
      "Using TensorFlow backend.\n"
     ]
    }
   ],
   "source": [
    "import pandas as pd\n",
    "import numpy as np\n",
    "import matplotlib.pyplot as plt\n",
    "import seaborn as sns\n",
    "import re\n",
    "\n",
    "import sklearn\n",
    "from sklearn import preprocessing\n",
    "from sklearn.ensemble import GradientBoostingClassifier\n",
    "from sklearn.model_selection import train_test_split, KFold\n",
    "from sklearn import metrics\n",
    "from sklearn.metrics import confusion_matrix\n",
    "import re\n",
    "\n",
    "import keras\n",
    "from keras import regularizers\n",
    "from keras.callbacks import ReduceLROnPlateau\n",
    "from keras.models import Sequential\n",
    "from keras.layers import Dense, Dropout\n",
    "from keras.wrappers.scikit_learn import KerasClassifier\n",
    "from keras.optimizers import Adam"
   ]
  },
  {
   "cell_type": "code",
   "execution_count": 2,
   "metadata": {},
   "outputs": [],
   "source": [
    "train_file = \"train.csv\"\n",
    "test_file = \"test.csv\"\n",
    "\n",
    "train_df = pd.read_csv(train_file, index_col = 0, dtype={\"Age\": np.float64})\n",
    "test_df = pd.read_csv(test_file, index_col = 0, dtype={\"Age\": np.float64})\n",
    "\n",
    "train_df['train'] = True\n",
    "test_df['train'] = False\n",
    "test_df['Survived'] = None\n",
    "df = pd.concat([train_df, test_df], sort=False)\n",
    "del train_df\n",
    "del test_df"
   ]
  },
  {
   "cell_type": "code",
   "execution_count": 3,
   "metadata": {},
   "outputs": [
    {
     "name": "stdout",
     "output_type": "stream",
     "text": [
      "<class 'pandas.core.frame.DataFrame'>\n",
      "Int64Index: 1309 entries, 1 to 1309\n",
      "Data columns (total 12 columns):\n",
      "Survived    891 non-null object\n",
      "Pclass      1309 non-null int64\n",
      "Name        1309 non-null object\n",
      "Sex         1309 non-null object\n",
      "Age         1046 non-null float64\n",
      "SibSp       1309 non-null int64\n",
      "Parch       1309 non-null int64\n",
      "Ticket      1309 non-null object\n",
      "Fare        1308 non-null float64\n",
      "Cabin       295 non-null object\n",
      "Embarked    1307 non-null object\n",
      "train       1309 non-null bool\n",
      "dtypes: bool(1), float64(2), int64(3), object(6)\n",
      "memory usage: 124.0+ KB\n"
     ]
    }
   ],
   "source": [
    "df.info()"
   ]
  },
  {
   "cell_type": "raw",
   "metadata": {},
   "source": [
    "Feature engineering"
   ]
  },
  {
   "cell_type": "code",
   "execution_count": 4,
   "metadata": {
    "scrolled": false
   },
   "outputs": [
    {
     "name": "stderr",
     "output_type": "stream",
     "text": [
      "/sgoinfre/goinfre/Perso/trmonich/miniconda3/lib/python3.6/site-packages/ipykernel_launcher.py:17: SettingWithCopyWarning: \n",
      "A value is trying to be set on a copy of a slice from a DataFrame\n",
      "\n",
      "See the caveats in the documentation: http://pandas.pydata.org/pandas-docs/stable/indexing.html#indexing-view-versus-copy\n"
     ]
    }
   ],
   "source": [
    "#drop useless ticket column\n",
    "df = df.drop(columns = 'Ticket')\n",
    "\n",
    "# drop non_embarked people and the missing fare\n",
    "#df = df.dropna(how='all', subset = ['Embarked'])\n",
    "#df = df.dropna(how='all', subset = ['Fare'])\n",
    "df['Embarked'] = df['Embarked'].fillna('S')\n",
    "\n",
    "\n",
    "\n",
    "#fill age and create cat\n",
    "#df['Age'] = df['Age'].fillna(value = df['Age'].median())\n",
    "age_avg = df['Age'].mean()\n",
    "age_std = df['Age'].std()\n",
    "age_null_count = df['Age'].isnull().sum()\n",
    "age_null_random_list = np.random.randint(age_avg - age_std, age_avg + age_std, size=age_null_count)\n",
    "df['Age'][np.isnan(df['Age'])] = age_null_random_list\n",
    "df['Age'] = df['Age'].astype(int)\n",
    "\n",
    "#nb of training exemples\n",
    "m = df.shape[0]\n",
    "\n",
    "#find the Surname to det families\n",
    "df['Surname'] = df['Name'].apply(lambda x: x.split(',')[0].lower())\n",
    "#find the name length\n",
    "df[\"Name_len\"] = df[\"Name\"].apply(lambda x: len(x))\n",
    "\n",
    "#add total nb of relatives on the boat\n",
    "df['Family_size'] = df['SibSp'] + df['Parch'] + 1\n",
    "df['Family_size'] = pd.cut(df['Family_size'], bins=[0,1,4,20], labels=[0,1,2])\n",
    "\n",
    "\n",
    "\n",
    "#find the title\n",
    "df['Title'] = df['Name'].apply(lambda x: re.search('([A-Za-z]+)\\.', x).group(1))\n",
    "title_mapping = {\"Mr\": 1, \"Miss\": 2, \"Mrs\": 3,\n",
    "                 \"Master\": 4, \"Dr\": 5, \"Rev\": 6,\n",
    "                 \"Major\": 7, \"Col\": 7, \"Mlle\": 2,\n",
    "                 \"Mme\": 3,\"Don\": 9,\"Dona\": 9,\n",
    "                 \"Lady\": 10, \"Countess\": 10,\n",
    "                 \"Jonkheer\": 10, \"Sir\": 9,\n",
    "                 \"Capt\": 7, \"Ms\": 2}\n",
    "df[\"Title\"] = df.loc[:,'Title'].map(title_mapping)\n",
    "\n",
    "\n",
    "#create an index for the cabin, after sorting since similar numbers should be close\n",
    "tmp_df = df\n",
    "df = df.sort_values(by = 'Cabin')\n",
    "le1 = preprocessing.LabelEncoder()\n",
    "le1.fit(df['Cabin'].values.astype(str))\n",
    "df['Cabin'] = le1.transform(df['Cabin'].values.astype(str))\n",
    "df = df.reset_index()\n",
    "df = df.set_index('PassengerId')\n",
    "\n",
    "#create an index for each family by comparing Surname and numbers giving relatives\n",
    "le2 = preprocessing.LabelEncoder()\n",
    "arrays = [df['SibSp'].values, df['Parch'].values, df['Surname'].values]\n",
    "joint_criterias = [str(arrays[0][i]) + str(arrays[1][i]) + str(arrays[2][i]) for i in range(m)]\n",
    "le2.fit(joint_criterias)\n",
    "df['Family_ind'] = le2.transform(joint_criterias)\n",
    "\n",
    "#index for the departing port, the sex and the surname while we use it\n",
    "cols = ['Embarked', 'Sex', 'Surname']\n",
    "encoders = []\n",
    "for col in cols:    \n",
    "    le = preprocessing.LabelEncoder()\n",
    "    le.fit(df[col].values.astype(str))\n",
    "    df[col] = le.transform(df[col].values.astype(str))\n",
    "    encoders.append(le)\n",
    "\n",
    "#add mean, min and max age of the family\n",
    "df['Mean_age'] = df.groupby('Family_ind')['Age'].transform(lambda x: x.mean())\n",
    "df['Min_age'] = df.groupby('Family_ind')['Age'].transform(lambda x: x.min())\n",
    "df['Max_age'] = df.groupby('Family_ind')['Age'].transform(lambda x: x.max())\n",
    "\n",
    "#name as well as family are no longer useful, since information is now contained elsewhere ??? essayons avec d'abord puis sans\n",
    "df = df.drop(columns = ['Name', 'SibSp', 'Parch'])\n",
    "\n",
    "#replace Fare abd create categories\n",
    "df['Fare'] = df['Fare'].fillna(df['Fare'].loc[(df['Pclass'] == 3) & (df['Embarked'] == 2) & (df['Cabin'] == 186)].median())\n",
    "\n",
    "\n",
    "\n",
    "#normalize the rest of the Data ?"
   ]
  },
  {
   "cell_type": "code",
   "execution_count": 5,
   "metadata": {},
   "outputs": [
    {
     "name": "stdout",
     "output_type": "stream",
     "text": [
      "            Survived  Pclass  Sex  Age     Fare  Cabin  Embarked  train  \\\n",
      "PassengerId                                                               \n",
      "1304            None       3    0   28   7.7750    186         2  False   \n",
      "1305            None       3    1   16   8.0500    186         2  False   \n",
      "1307            None       3    1   38   7.2500    186         2  False   \n",
      "1308            None       3    1   32   8.0500    186         2  False   \n",
      "1309            None       3    1   39  22.3583    186         0  False   \n",
      "\n",
      "             Surname  Name_len Family_size  Title  Family_ind  Mean_age  \\\n",
      "PassengerId                                                               \n",
      "1304             338        30           0      2         265      28.0   \n",
      "1305             758        18           0      1         608      16.0   \n",
      "1307             704        28           0      1         563      38.0   \n",
      "1308             834        19           0      1         669      31.5   \n",
      "1309             639        24           1      4         917      37.5   \n",
      "\n",
      "             Min_age  Max_age  \n",
      "PassengerId                    \n",
      "1304              28       28  \n",
      "1305              16       16  \n",
      "1307              38       38  \n",
      "1308              31       32  \n",
      "1309              36       39  \n"
     ]
    }
   ],
   "source": [
    "print(df.tail(5))"
   ]
  },
  {
   "cell_type": "code",
   "execution_count": 30,
   "metadata": {},
   "outputs": [],
   "source": [
    "train_df = df.loc[lambda df:df['train'] == True].drop(columns = 'train')\n",
    "test_df = df.loc[lambda df:df['train'] == False].drop(columns = 'train')\n",
    "\n",
    "y = train_df['Survived'].astype(bool).values\n",
    "X = train_df.drop(columns = 'Survived').values\n",
    "\n",
    "X_tr, X_val, y_tr, y_val = train_test_split(X, y, test_size=0.2, random_state=42)\n",
    "\n",
    "X_test = test_df.drop(columns = 'Survived').values"
   ]
  },
  {
   "cell_type": "code",
   "execution_count": 7,
   "metadata": {},
   "outputs": [
    {
     "name": "stderr",
     "output_type": "stream",
     "text": [
      "/sgoinfre/goinfre/Perso/trmonich/miniconda3/lib/python3.6/site-packages/sklearn/svm/base.py:196: FutureWarning: The default value of gamma will change from 'auto' to 'scale' in version 0.22 to account better for unscaled features. Set gamma explicitly to 'auto' or 'scale' to avoid this warning.\n",
      "  \"avoid this warning.\", FutureWarning)\n",
      "/sgoinfre/goinfre/Perso/trmonich/miniconda3/lib/python3.6/site-packages/sklearn/ensemble/forest.py:246: FutureWarning: The default value of n_estimators will change from 10 in version 0.20 to 100 in 0.22.\n",
      "  \"10 in version 0.20 to 100 in 0.22.\", FutureWarning)\n",
      "/sgoinfre/goinfre/Perso/trmonich/miniconda3/lib/python3.6/site-packages/sklearn/linear_model/logistic.py:433: FutureWarning: Default solver will be changed to 'lbfgs' in 0.22. Specify a solver to silence this warning.\n",
      "  FutureWarning)\n",
      "/sgoinfre/goinfre/Perso/trmonich/miniconda3/lib/python3.6/site-packages/sklearn/svm/base.py:196: FutureWarning: The default value of gamma will change from 'auto' to 'scale' in version 0.22 to account better for unscaled features. Set gamma explicitly to 'auto' or 'scale' to avoid this warning.\n",
      "  \"avoid this warning.\", FutureWarning)\n",
      "/sgoinfre/goinfre/Perso/trmonich/miniconda3/lib/python3.6/site-packages/sklearn/linear_model/logistic.py:433: FutureWarning: Default solver will be changed to 'lbfgs' in 0.22. Specify a solver to silence this warning.\n",
      "  FutureWarning)\n",
      "/sgoinfre/goinfre/Perso/trmonich/miniconda3/lib/python3.6/site-packages/sklearn/svm/base.py:196: FutureWarning: The default value of gamma will change from 'auto' to 'scale' in version 0.22 to account better for unscaled features. Set gamma explicitly to 'auto' or 'scale' to avoid this warning.\n",
      "  \"avoid this warning.\", FutureWarning)\n",
      "/sgoinfre/goinfre/Perso/trmonich/miniconda3/lib/python3.6/site-packages/sklearn/linear_model/logistic.py:433: FutureWarning: Default solver will be changed to 'lbfgs' in 0.22. Specify a solver to silence this warning.\n",
      "  FutureWarning)\n",
      "/sgoinfre/goinfre/Perso/trmonich/miniconda3/lib/python3.6/site-packages/sklearn/svm/base.py:196: FutureWarning: The default value of gamma will change from 'auto' to 'scale' in version 0.22 to account better for unscaled features. Set gamma explicitly to 'auto' or 'scale' to avoid this warning.\n",
      "  \"avoid this warning.\", FutureWarning)\n",
      "/sgoinfre/goinfre/Perso/trmonich/miniconda3/lib/python3.6/site-packages/sklearn/linear_model/logistic.py:433: FutureWarning: Default solver will be changed to 'lbfgs' in 0.22. Specify a solver to silence this warning.\n",
      "  FutureWarning)\n",
      "/sgoinfre/goinfre/Perso/trmonich/miniconda3/lib/python3.6/site-packages/sklearn/svm/base.py:196: FutureWarning: The default value of gamma will change from 'auto' to 'scale' in version 0.22 to account better for unscaled features. Set gamma explicitly to 'auto' or 'scale' to avoid this warning.\n",
      "  \"avoid this warning.\", FutureWarning)\n",
      "/sgoinfre/goinfre/Perso/trmonich/miniconda3/lib/python3.6/site-packages/sklearn/linear_model/logistic.py:433: FutureWarning: Default solver will be changed to 'lbfgs' in 0.22. Specify a solver to silence this warning.\n",
      "  FutureWarning)\n",
      "/sgoinfre/goinfre/Perso/trmonich/miniconda3/lib/python3.6/site-packages/sklearn/svm/base.py:196: FutureWarning: The default value of gamma will change from 'auto' to 'scale' in version 0.22 to account better for unscaled features. Set gamma explicitly to 'auto' or 'scale' to avoid this warning.\n",
      "  \"avoid this warning.\", FutureWarning)\n",
      "/sgoinfre/goinfre/Perso/trmonich/miniconda3/lib/python3.6/site-packages/sklearn/linear_model/logistic.py:433: FutureWarning: Default solver will be changed to 'lbfgs' in 0.22. Specify a solver to silence this warning.\n",
      "  FutureWarning)\n",
      "/sgoinfre/goinfre/Perso/trmonich/miniconda3/lib/python3.6/site-packages/sklearn/svm/base.py:196: FutureWarning: The default value of gamma will change from 'auto' to 'scale' in version 0.22 to account better for unscaled features. Set gamma explicitly to 'auto' or 'scale' to avoid this warning.\n",
      "  \"avoid this warning.\", FutureWarning)\n",
      "/sgoinfre/goinfre/Perso/trmonich/miniconda3/lib/python3.6/site-packages/sklearn/linear_model/logistic.py:433: FutureWarning: Default solver will be changed to 'lbfgs' in 0.22. Specify a solver to silence this warning.\n",
      "  FutureWarning)\n",
      "/sgoinfre/goinfre/Perso/trmonich/miniconda3/lib/python3.6/site-packages/sklearn/svm/base.py:196: FutureWarning: The default value of gamma will change from 'auto' to 'scale' in version 0.22 to account better for unscaled features. Set gamma explicitly to 'auto' or 'scale' to avoid this warning.\n",
      "  \"avoid this warning.\", FutureWarning)\n",
      "/sgoinfre/goinfre/Perso/trmonich/miniconda3/lib/python3.6/site-packages/sklearn/linear_model/logistic.py:433: FutureWarning: Default solver will be changed to 'lbfgs' in 0.22. Specify a solver to silence this warning.\n",
      "  FutureWarning)\n",
      "/sgoinfre/goinfre/Perso/trmonich/miniconda3/lib/python3.6/site-packages/sklearn/svm/base.py:196: FutureWarning: The default value of gamma will change from 'auto' to 'scale' in version 0.22 to account better for unscaled features. Set gamma explicitly to 'auto' or 'scale' to avoid this warning.\n",
      "  \"avoid this warning.\", FutureWarning)\n",
      "/sgoinfre/goinfre/Perso/trmonich/miniconda3/lib/python3.6/site-packages/sklearn/linear_model/logistic.py:433: FutureWarning: Default solver will be changed to 'lbfgs' in 0.22. Specify a solver to silence this warning.\n",
      "  FutureWarning)\n",
      "/sgoinfre/goinfre/Perso/trmonich/miniconda3/lib/python3.6/site-packages/sklearn/svm/base.py:196: FutureWarning: The default value of gamma will change from 'auto' to 'scale' in version 0.22 to account better for unscaled features. Set gamma explicitly to 'auto' or 'scale' to avoid this warning.\n",
      "  \"avoid this warning.\", FutureWarning)\n",
      "/sgoinfre/goinfre/Perso/trmonich/miniconda3/lib/python3.6/site-packages/sklearn/linear_model/logistic.py:433: FutureWarning: Default solver will be changed to 'lbfgs' in 0.22. Specify a solver to silence this warning.\n",
      "  FutureWarning)\n"
     ]
    },
    {
     "data": {
      "text/plain": [
       "<matplotlib.axes._subplots.AxesSubplot at 0x1a34af8c18>"
      ]
     },
     "execution_count": 7,
     "metadata": {},
     "output_type": "execute_result"
    },
    {
     "data": {
      "image/png": "[encoded data removed]",
      "text/plain": [
       "<Figure size 432x288 with 1 Axes>"
      ]
     },
     "metadata": {
      "needs_background": "light"
     },
     "output_type": "display_data"
    }
   ],
   "source": [
    "import matplotlib.pyplot as plt\n",
    "import seaborn as sns\n",
    "\n",
    "from sklearn.model_selection import StratifiedShuffleSplit\n",
    "from sklearn.metrics import accuracy_score, log_loss\n",
    "from sklearn.neighbors import KNeighborsClassifier\n",
    "from sklearn.svm import SVC\n",
    "from sklearn.tree import DecisionTreeClassifier\n",
    "from sklearn.ensemble import RandomForestClassifier, AdaBoostClassifier, GradientBoostingClassifier\n",
    "from sklearn.naive_bayes import GaussianNB\n",
    "from sklearn.discriminant_analysis import LinearDiscriminantAnalysis, QuadraticDiscriminantAnalysis\n",
    "from sklearn.linear_model import LogisticRegression\n",
    "\n",
    "classifiers = [\n",
    "    KNeighborsClassifier(3),\n",
    "    SVC(probability=True),\n",
    "    DecisionTreeClassifier(),\n",
    "    RandomForestClassifier(),\n",
    "\tAdaBoostClassifier(),\n",
    "    GradientBoostingClassifier(),\n",
    "    GaussianNB(),\n",
    "    LinearDiscriminantAnalysis(),\n",
    "    QuadraticDiscriminantAnalysis(),\n",
    "    LogisticRegression()]\n",
    "\n",
    "log_cols = [\"Classifier\", \"Accuracy\"]\n",
    "log \t = pd.DataFrame(columns=log_cols)\n",
    "\n",
    "sss = StratifiedShuffleSplit(n_splits=10, test_size=0.1, random_state=0)\n",
    "\n",
    "#X = train[0::, 1::]\n",
    "#y = train[0::, 0]\n",
    "\n",
    "acc_dict = {}\n",
    "\n",
    "for train_index, test_index in sss.split(X, y):\n",
    "\tX_train, X_test = X[train_index], X[test_index]\n",
    "\ty_train, y_test = y[train_index], y[test_index]\n",
    "\t\n",
    "\tfor clf in classifiers:\n",
    "\t\tname = clf.__class__.__name__\n",
    "\t\tclf.fit(X_train, y_train)\n",
    "\t\ttrain_predictions = clf.predict(X_test)\n",
    "\t\tacc = accuracy_score(y_test, train_predictions)\n",
    "\t\tif name in acc_dict:\n",
    "\t\t\tacc_dict[name] += acc\n",
    "\t\telse:\n",
    "\t\t\tacc_dict[name] = acc\n",
    "\n",
    "for clf in acc_dict:\n",
    "\tacc_dict[clf] = acc_dict[clf] / 10.0\n",
    "\tlog_entry = pd.DataFrame([[clf, acc_dict[clf]]], columns=log_cols)\n",
    "\tlog = log.append(log_entry)\n",
    "\n",
    "plt.xlabel('Accuracy')\n",
    "plt.title('Classifier Accuracy')\n",
    "\n",
    "sns.set_color_codes(\"muted\")\n",
    "sns.barplot(x='Accuracy', y='Classifier', data=log, color=\"b\")"
   ]
  },
  {
   "cell_type": "code",
   "execution_count": 33,
   "metadata": {},
   "outputs": [
    {
     "name": "stdout",
     "output_type": "stream",
     "text": [
      "1.0\n",
      "0.9664804469273743\n",
      "1.0\n",
      "0.9888268156424581\n",
      "1.0\n",
      "0.9832402234636871\n",
      "1.0\n",
      "0.9776536312849162\n",
      "1.0\n",
      "0.9776536312849162\n",
      "1.0\n",
      "0.9776536312849162\n",
      "1.0\n",
      "0.9888268156424581\n",
      "1.0\n",
      "0.994413407821229\n",
      "1.0\n",
      "0.9776536312849162\n",
      "1.0\n",
      "0.9720670391061452\n"
     ]
    }
   ],
   "source": [
    "models = []\n",
    "kf = KFold(10, random_state=42)\n",
    "for train_ind, test_ind in kf.split(X):\n",
    "    X_tr, X_test = X[train_ind], X[test_ind]\n",
    "    y_tr, y_test = y[train_ind], y[test_ind]\n",
    "    model = GradientBoostingClassifier(learning_rate=0.2, n_estimators=1200, verbose=0, max_depth=2)\n",
    "    model.fit(X_tr, y_tr)\n",
    "    print(model.score(X_tr, y_tr))\n",
    "    print(model.score(X_val, y_val))\n",
    "    models.append(model)"
   ]
  },
  {
   "cell_type": "code",
   "execution_count": 31,
   "metadata": {},
   "outputs": [
    {
     "name": "stdout",
     "output_type": "stream",
     "text": [
      "(418,)\n"
     ]
    }
   ],
   "source": [
    "#Make the predictions and average by best 2 out of 3 ?\n",
    "predictions = []\n",
    "for model in models:\n",
    "    prediction = model.predict(X_test)\n",
    "    predictions.append(prediction.astype(int))\n",
    "    \n",
    "average = sum(predictions)\n",
    "average = average / 10\n",
    "average = (average >= 0.5).astype(int)\n",
    "print(average.shape)"
   ]
  },
  {
   "cell_type": "code",
   "execution_count": 32,
   "metadata": {},
   "outputs": [
    {
     "name": "stdout",
     "output_type": "stream",
     "text": [
      "      Survived\n",
      "1100         1\n",
      "1223         0\n",
      "920          0\n",
      "1004         1\n",
      "1185         1\n",
      "1266         1\n",
      "938          1\n",
      "1058         0\n",
      "1107         1\n",
      "1282         0\n",
      "1197         1\n",
      "918          1\n",
      "1289         1\n",
      "1179         0\n",
      "904          1\n",
      "1235         1\n",
      "1264         0\n",
      "916          1\n",
      "956          1\n",
      "1034         0\n",
      "1076         1\n",
      "951          1\n",
      "1200         0\n",
      "984          1\n",
      "1208         0\n",
      "969          1\n",
      "1248         1\n",
      "1306         1\n",
      "1227         1\n",
      "1069         0\n",
      "...        ...\n",
      "1269         0\n",
      "1271         1\n",
      "1272         0\n",
      "1273         0\n",
      "1274         1\n",
      "1275         1\n",
      "1276         0\n",
      "1277         1\n",
      "1278         0\n",
      "1279         0\n",
      "1280         0\n",
      "1281         0\n",
      "1284         1\n",
      "1285         0\n",
      "1286         0\n",
      "1288         1\n",
      "1290         0\n",
      "1291         0\n",
      "1293         0\n",
      "1294         1\n",
      "1295         0\n",
      "1298         0\n",
      "1300         1\n",
      "1301         1\n",
      "1302         1\n",
      "1304         0\n",
      "1305         0\n",
      "1307         0\n",
      "1308         0\n",
      "1309         1\n",
      "\n",
      "[418 rows x 1 columns]\n"
     ]
    }
   ],
   "source": [
    "PassengerId =np.array(test_df.index).astype(int)\n",
    "my_prediction = pd.DataFrame(average, PassengerId, columns = [\"Survived\"])\n",
    "print(my_prediction)\n",
    "\n",
    "my_prediction.to_csv(\"GDBpred.csv\", index_label = [\"PassengerId\"])"
   ]
  },
  {
   "cell_type": "code",
   "execution_count": null,
   "metadata": {},
   "outputs": [],
   "source": [
    "features = train_df.drop(columns = 'Survived').columns.values\n",
    "importances = model1.feature_importances_\n",
    "indices = np.argsort(importances)\n",
    "\n",
    "for name, importance in zip(features, importances):\n",
    "    print(name, \"=\", importance)\n",
    "\n",
    "plt.title('Feature Importances')\n",
    "plt.barh(range(len(indices)), importances[indices], color='b', align='center')\n",
    "plt.yticks(range(len(indices)), [features[i] for i in indices])\n",
    "plt.xlabel('Relative Importance')\n",
    "plt.show()"
   ]
  },
  {
   "cell_type": "code",
   "execution_count": null,
   "metadata": {},
   "outputs": [],
   "source": [
    "def create_model(optimizer='Adam'):\n",
    "\n",
    "    input_dim = X_tr.shape[1]\n",
    "\n",
    "    l2 = regularizers.l2(0.01)\n",
    "\n",
    "    model2 = Sequential()\n",
    "    model2.add(Dense(32, activation = 'relu', kernel_initializer='glorot_normal', input_dim=input_dim, kernel_regularizer=l2))\n",
    "    model2.add(Dense(64, activation = 'relu', kernel_initializer='glorot_normal', kernel_regularizer=l2))\n",
    "    model2.add(Dense(128, activation = 'relu', kernel_initializer='glorot_normal', kernel_regularizer=l2))\n",
    "    model2.add(Dense(164, activation = 'relu', kernel_initializer='glorot_normal', kernel_regularizer=l2))\n",
    "    model2.add(Dense(16, activation = 'relu', kernel_initializer='glorot_normal'))\n",
    "    model2.add(Dense(1, activation = 'sigmoid', kernel_initializer='glorot_normal'))\n",
    "\n",
    "    model2.compile(optimizer=optimizer, loss='binary_crossentropy', metrics=['accuracy'])\n",
    "    \n",
    "    return model2\n",
    "\n",
    "optimizer = Adam(lr=0.1, beta_1=0.9, beta_2=0.999, epsilon=None, decay=0.0, amsgrad=False)\n",
    "histories = []\n",
    "models = []\n",
    "kf = KFold(10, random_state=42)\n",
    "for train_ind, test_ind in kf.split(X):\n",
    "    X_tr, X_test = X[train_ind], X[test_ind]\n",
    "    y_tr, y_test = y[train_ind], y[test_ind]\n",
    "    model = create_model()\n",
    "    history = model.fit(X_tr, y_tr, batch_size=64, epochs=2500, validation_data=(X_val,y_val))\n",
    "    models.append(model)\n",
    "    histories.append(history)"
   ]
  },
  {
   "cell_type": "code",
   "execution_count": null,
   "metadata": {},
   "outputs": [],
   "source": [
    "for i, history in enumerate(histories):\n",
    "    # summarize history for accuracy\n",
    "    plt.plot(history.history['acc'])\n",
    "    plt.plot(history.history['val_acc'])\n",
    "    plt.title('model accuracy model ' + str(i))\n",
    "    plt.ylabel('accuracy')\n",
    "    plt.xlabel('epoch')\n",
    "    plt.legend(['train', 'test'], loc='upper left')\n",
    "    plt.show()\n",
    "    # summarize history for loss\n",
    "    plt.plot(history.history['loss'])\n",
    "    plt.plot(history.history['val_loss'])\n",
    "    plt.title('model loss')\n",
    "    plt.ylabel('loss')\n",
    "    plt.xlabel('epoch')\n",
    "    plt.legend(['train', 'test'], loc='upper left')\n",
    "    plt.show()"
   ]
  },
  {
   "cell_type": "code",
   "execution_count": null,
   "metadata": {},
   "outputs": [],
   "source": [
    "from keras.models import load_model\n",
    "scores= []\n",
    "for i, model in enumerate(models):\n",
    "    score = model.evaluate(X, y, batch_size = 64)\n",
    "    print(model.metrics_names)\n",
    "    print(score)\n",
    "    scores.append(score)\n",
    "    model.save('my_model' + str(i) + '.h5')"
   ]
  },
  {
   "cell_type": "code",
   "execution_count": null,
   "metadata": {},
   "outputs": [],
   "source": [
    "#choose the best models\n",
    "best_models = []\n",
    "for i, model in enumerate(models):\n",
    "    if scores[i][1] >= 0.90:\n",
    "        best_models.append(model)\n",
    "print(best_models)"
   ]
  },
  {
   "cell_type": "code",
   "execution_count": null,
   "metadata": {},
   "outputs": [],
   "source": [
    "#print()\n",
    "#test_df['Fare'] = test_df['Fare'].fillna(8.05)\n",
    "#test_df.info()\n",
    "#X_test = test_df.drop(columns = 'Survived').values\n",
    "#print(X_test)"
   ]
  },
  {
   "cell_type": "code",
   "execution_count": null,
   "metadata": {},
   "outputs": [],
   "source": [
    "#Make the predictions and average by best 2 out of 3 ?\n",
    "predictions = []\n",
    "for model in best_models:\n",
    "    prediction = model.predict(X_test, batch_size = 64)\n",
    "    prediction = (prediction >= 0.5)\n",
    "    predictions.append(prediction)\n",
    "    print(prediction)"
   ]
  },
  {
   "cell_type": "code",
   "execution_count": null,
   "metadata": {},
   "outputs": [],
   "source": [
    "average = predictions[0] * 1 + predictions[1] * 1 + predictions[2] * 1\n",
    "average = average / 3\n",
    "average = (average >= 0.5).astype(int)\n",
    "print(average)"
   ]
  },
  {
   "cell_type": "code",
   "execution_count": null,
   "metadata": {},
   "outputs": [],
   "source": [
    "PassengerId =np.array(test_df.index).astype(int)\n",
    "my_prediction = pd.DataFrame(average, PassengerId, columns = [\"Survived\"])\n",
    "print(my_prediction)\n",
    "\n",
    "my_prediction.to_csv(\"my_prediction.csv\", index_label = [\"PassengerId\"])"
   ]
  },
  {
   "cell_type": "code",
   "execution_count": null,
   "metadata": {},
   "outputs": [],
   "source": []
  }
 ],
 "metadata": {
  "kernelspec": {
   "display_name": "Python 3",
   "language": "python",
   "name": "python3"
  },
  "language_info": {
   "codemirror_mode": {
    "name": "ipython",
    "version": 3
   },
   "file_extension": ".py",
   "mimetype": "text/x-python",
   "name": "python",
   "nbconvert_exporter": "python",
   "pygments_lexer": "ipython3",
   "version": "3.6.8"
  }
 },
 "nbformat": 4,
 "nbformat_minor": 2
}
