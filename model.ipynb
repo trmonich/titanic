{
 "cells": [
  {
   "cell_type": "code",
   "execution_count": 1,
   "metadata": {},
   "outputs": [],
   "source": [
    "import pandas as pd\n",
    "import numpy as np\n",
    "import matplotlib.pyplot as plt\n",
    "from sklearn import preprocessing\n",
    "from sklearn.ensemble import GradientBoostingClassifier"
   ]
  },
  {
   "cell_type": "code",
   "execution_count": 2,
   "metadata": {},
   "outputs": [],
   "source": [
    "train_file = \"train.csv\"\n",
    "test_file = \"test.csv\"\n",
    "\n",
    "train_df = pd.read_csv(train_file, index_col = 0)\n",
    "test_df = pd.read_csv(test_file, index_col = 0)\n",
    "\n",
    "train_df['train'] = True\n",
    "test_df['train'] = False\n",
    "test_df['Survived'] = None\n",
    "df = pd.concat([train_df, test_df], sort=False)\n",
    "del train_df\n",
    "del test_df"
   ]
  },
  {
   "cell_type": "code",
   "execution_count": 3,
   "metadata": {},
   "outputs": [
    {
     "name": "stdout",
     "output_type": "stream",
     "text": [
      "            Survived  Pclass                          Name     Sex   Age  \\\n",
      "PassengerId                                                                \n",
      "1305            None       3            Spector, Mr. Woolf    male   NaN   \n",
      "1306            None       1  Oliva y Ocana, Dona. Fermina  female  39.0   \n",
      "1307            None       3  Saether, Mr. Simon Sivertsen    male  38.5   \n",
      "1308            None       3           Ware, Mr. Frederick    male   NaN   \n",
      "1309            None       3      Peter, Master. Michael J    male   NaN   \n",
      "\n",
      "             SibSp  Parch              Ticket      Fare Cabin Embarked  train  \n",
      "PassengerId                                                                    \n",
      "1305             0      0           A.5. 3236    8.0500   NaN        S  False  \n",
      "1306             0      0            PC 17758  108.9000  C105        C  False  \n",
      "1307             0      0  SOTON/O.Q. 3101262    7.2500   NaN        S  False  \n",
      "1308             0      0              359309    8.0500   NaN        S  False  \n",
      "1309             1      1                2668   22.3583   NaN        C  False  \n"
     ]
    }
   ],
   "source": [
    "print(df.tail(5))"
   ]
  },
  {
   "cell_type": "raw",
   "metadata": {},
   "source": [
    "Feature engineering"
   ]
  },
  {
   "cell_type": "code",
   "execution_count": 4,
   "metadata": {
    "scrolled": false
   },
   "outputs": [],
   "source": [
    "#drop useless ticket column\n",
    "df = df.drop(columns = 'Ticket')\n",
    "\n",
    "# drop non_embarked people\n",
    "df = df.dropna(how='all', subset = ['Embarked'])\n",
    "df['Age'] = df['Age'].fillna(value = df['Age'].median())\n",
    "\n",
    "#nb of training exemples\n",
    "m = df.shape[0]\n",
    "\n",
    "#find the Surname to det families\n",
    "df['Surname'] = df['Name'].str.split(pat = ',').str[0]\n",
    "#add total nb of relatives on the boat\n",
    "df['Nb_rel'] = df['SibSp'] + df['Parch']\n",
    "\n",
    "#create an index for the cabin, after sorting since similar numbers should be close\n",
    "tmp_df = df\n",
    "df = df.sort_values(by = 'Cabin')\n",
    "le1 = preprocessing.LabelEncoder()\n",
    "le1.fit(df['Cabin'].values.astype(str))\n",
    "df['Cabin'] = le1.transform(df['Cabin'].values.astype(str))\n",
    "df = df.reset_index()\n",
    "df = df.set_index('PassengerId')\n",
    "\n",
    "#create an index for each family by comparing Surname and numbers giving relatives\n",
    "le2 = preprocessing.LabelEncoder()\n",
    "arrays = [df['SibSp'].values, df['Parch'].values, df['Surname'].values]\n",
    "joint_criterias = [str(arrays[0][i]) + str(arrays[1][i]) + str(arrays[2][i]) for i in range(m)]\n",
    "le2.fit(joint_criterias)\n",
    "df['Family_ind'] = le2.transform(joint_criterias)\n",
    "\n",
    "#index for the departing port, the sex and the surname while we use it\n",
    "cols = ['Embarked', 'Sex', 'Surname']\n",
    "encoders = []\n",
    "for col in cols:    \n",
    "    le = preprocessing.LabelEncoder()\n",
    "    le.fit(df[col].values.astype(str))\n",
    "    df[col] = le.transform(df[col].values.astype(str))\n",
    "    encoders.append(le)\n",
    "\n",
    "#add mean, min and max age of the family\n",
    "df['Mean_age'] = df.groupby('Family_ind')['Age'].transform(lambda x: x.mean())\n",
    "df['Min_age'] = df.groupby('Family_ind')['Age'].transform(lambda x: x.min())\n",
    "df['Max_age'] = df.groupby('Family_ind')['Age'].transform(lambda x: x.max())\n",
    "\n",
    "#name as well as family are no longer useful, since information is now contained elsewhere ??? essayons avec d'abord puis sans\n",
    "df = df.drop(columns = 'Name')\n",
    "\n",
    "#normalize the rest of the Data ?"
   ]
  },
  {
   "cell_type": "code",
   "execution_count": 5,
   "metadata": {},
   "outputs": [
    {
     "name": "stdout",
     "output_type": "stream",
     "text": [
      "            Survived  Pclass  Sex   Age  SibSp  Parch     Fare  Cabin  \\\n",
      "PassengerId                                                             \n",
      "1304            None       3    0  28.0      0      0   7.7750    185   \n",
      "1305            None       3    1  28.0      0      0   8.0500    185   \n",
      "1307            None       3    1  38.5      0      0   7.2500    185   \n",
      "1308            None       3    1  28.0      0      0   8.0500    185   \n",
      "1309            None       3    1  28.0      1      1  22.3583    185   \n",
      "\n",
      "             Embarked  train  Surname  Nb_rel  Family_ind  Mean_age  Min_age  \\\n",
      "PassengerId                                                                    \n",
      "1304                2  False      333       0         262      28.0     28.0   \n",
      "1305                2  False      752       0         604      28.0     28.0   \n",
      "1307                2  False      698       0         559      38.5     38.5   \n",
      "1308                2  False      825       0         663      29.5     28.0   \n",
      "1309                0  False      633       2         915      28.0     28.0   \n",
      "\n",
      "             Max_age  \n",
      "PassengerId           \n",
      "1304            28.0  \n",
      "1305            28.0  \n",
      "1307            38.5  \n",
      "1308            31.0  \n",
      "1309            28.0  \n"
     ]
    }
   ],
   "source": [
    "print(df.tail(5))"
   ]
  },
  {
   "cell_type": "code",
   "execution_count": 27,
   "metadata": {},
   "outputs": [],
   "source": [
    "train_df = df.loc[lambda df:df['train'] == True].drop(columns = 'train')\n",
    "test_df = df.loc[lambda df:df['train'] == False].drop(columns = 'train')\n",
    "\n",
    "y = train_df['Survived'].astype(bool)\n",
    "X = train_df.drop(columns = 'Survived')"
   ]
  },
  {
   "cell_type": "code",
   "execution_count": 28,
   "metadata": {},
   "outputs": [
    {
     "name": "stdout",
     "output_type": "stream",
     "text": [
      "PassengerId\n",
      "584    False\n",
      "476    False\n",
      "557     True\n",
      "285    False\n",
      "600     True\n",
      "631     True\n",
      "868    False\n",
      "648     True\n",
      "210     True\n",
      "186    False\n",
      "446     True\n",
      "807    False\n",
      "97     False\n",
      "24      True\n",
      "175    False\n",
      "738     True\n",
      "816    False\n",
      "330     True\n",
      "524     True\n",
      "171    False\n",
      "691     True\n",
      "782     True\n",
      "541     True\n",
      "746    False\n",
      "780     True\n",
      "55     False\n",
      "370     True\n",
      "642     True\n",
      "488    False\n",
      "537    False\n",
      "       ...  \n",
      "853    False\n",
      "855    False\n",
      "856     True\n",
      "857     True\n",
      "859     True\n",
      "860    False\n",
      "861    False\n",
      "862    False\n",
      "864    False\n",
      "865    False\n",
      "866     True\n",
      "867     True\n",
      "869    False\n",
      "870     True\n",
      "871    False\n",
      "874    False\n",
      "875     True\n",
      "876     True\n",
      "877    False\n",
      "878    False\n",
      "879    False\n",
      "881     True\n",
      "882    False\n",
      "883    False\n",
      "884    False\n",
      "885    False\n",
      "886    False\n",
      "887    False\n",
      "889    False\n",
      "891    False\n",
      "Name: Survived, Length: 889, dtype: bool\n",
      "(889, 14)\n"
     ]
    }
   ],
   "source": [
    "print(y.astype(bool))\n",
    "print(X.shape)"
   ]
  },
  {
   "cell_type": "code",
   "execution_count": 32,
   "metadata": {},
   "outputs": [
    {
     "data": {
      "text/plain": [
       "GradientBoostingClassifier(criterion='friedman_mse', init=None,\n",
       "              learning_rate=0.1, loss='deviance', max_depth=3,\n",
       "              max_features=None, max_leaf_nodes=None,\n",
       "              min_impurity_decrease=0.0, min_impurity_split=None,\n",
       "              min_samples_leaf=1, min_samples_split=2,\n",
       "              min_weight_fraction_leaf=0.0, n_estimators=100,\n",
       "              n_iter_no_change=None, presort='auto', random_state=None,\n",
       "              subsample=1.0, tol=0.0001, validation_fraction=0.1,\n",
       "              verbose=0, warm_start=False)"
      ]
     },
     "execution_count": 32,
     "metadata": {},
     "output_type": "execute_result"
    }
   ],
   "source": [
    "model = GradientBoostingClassifier()\n",
    "model.fit(X, y)"
   ]
  },
  {
   "cell_type": "code",
   "execution_count": 34,
   "metadata": {},
   "outputs": [
    {
     "data": {
      "text/plain": [
       "array([[[13.],\n",
       "        [13.],\n",
       "        [13.],\n",
       "        ...,\n",
       "        [ 3.],\n",
       "        [13.],\n",
       "        [ 3.]],\n",
       "\n",
       "       [[13.],\n",
       "        [13.],\n",
       "        [13.],\n",
       "        ...,\n",
       "        [ 3.],\n",
       "        [ 3.],\n",
       "        [10.]],\n",
       "\n",
       "       [[ 3.],\n",
       "        [ 4.],\n",
       "        [ 4.],\n",
       "        ...,\n",
       "        [ 3.],\n",
       "        [13.],\n",
       "        [ 3.]],\n",
       "\n",
       "       ...,\n",
       "\n",
       "       [[14.],\n",
       "        [14.],\n",
       "        [14.],\n",
       "        ...,\n",
       "        [ 6.],\n",
       "        [13.],\n",
       "        [10.]],\n",
       "\n",
       "       [[ 6.],\n",
       "        [ 7.],\n",
       "        [ 7.],\n",
       "        ...,\n",
       "        [ 6.],\n",
       "        [13.],\n",
       "        [14.]],\n",
       "\n",
       "       [[14.],\n",
       "        [14.],\n",
       "        [14.],\n",
       "        ...,\n",
       "        [ 6.],\n",
       "        [ 3.],\n",
       "        [ 3.]]])"
      ]
     },
     "execution_count": 34,
     "metadata": {},
     "output_type": "execute_result"
    }
   ],
   "source": [
    "model.apply(X)"
   ]
  },
  {
   "cell_type": "code",
   "execution_count": null,
   "metadata": {},
   "outputs": [],
   "source": []
  }
 ],
 "metadata": {
  "kernelspec": {
   "display_name": "Python 3",
   "language": "python",
   "name": "python3"
  },
  "language_info": {
   "codemirror_mode": {
    "name": "ipython",
    "version": 3
   },
   "file_extension": ".py",
   "mimetype": "text/x-python",
   "name": "python",
   "nbconvert_exporter": "python",
   "pygments_lexer": "ipython3",
   "version": "3.6.8"
  }
 },
 "nbformat": 4,
 "nbformat_minor": 2
}
